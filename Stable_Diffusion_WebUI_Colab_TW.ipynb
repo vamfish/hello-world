{
  "nbformat": 4,
  "nbformat_minor": 0,
  "metadata": {
    "colab": {
      "provenance": [],
      "collapsed_sections": [
        "TE45Pqn_N81E",
        "3JkrcrPBza-M",
        "htQtwGXHTaob"
      ],
      "toc_visible": true,
      "include_colab_link": true
    },
    "kernelspec": {
      "name": "python3",
      "display_name": "Python 3"
    },
    "language_info": {
      "name": "python"
    },
    "accelerator": "GPU",
    "gpuClass": "standard"
  },
  "cells": [
    {
      "cell_type": "markdown",
      "metadata": {
        "id": "view-in-github",
        "colab_type": "text"
      },
      "source": [
        "<a href=\"https://colab.research.google.com/github/vamfish/hello-world/blob/master/Stable_Diffusion_WebUI_Colab_TW.ipynb\" target=\"_parent\"><img src=\"https://colab.research.google.com/assets/colab-badge.svg\" alt=\"Open In Colab\"/></a>"
      ]
    },
    {
      "cell_type": "markdown",
      "metadata": {
        "id": "A6OFCYOzNjDX"
      },
      "source": [
        "# Stable Diffusion WebUI Colab TW\n",
        "\n",
        "### 使用流程\n",
        "\n",
        "1. 到**設置模型**及**進階設置**進行設置\n",
        "2. 左上角工具列 > 執行階段 > 變更執行階段類型 > 硬體加速器改為 GPU\n",
        "3. 左上角工具列 > 執行階段 > 全部執行\n",
        "4. 到**啟動 WebUI** 點選 public URL\n",
        "\n",
        "### 巴哈原文\n",
        "https://home.gamer.com.tw/artwork.php?sn=5664550\n",
        "\n",
        "### 參考資料\n",
        "https://github.com/ddPn08/automatic1111-colab"
      ]
    },
    {
      "cell_type": "markdown",
      "metadata": {
        "id": "TE45Pqn_N81E"
      },
      "source": [
        "## 1 - 下載 stable-diffusion-webui"
      ]
    },
    {
      "cell_type": "code",
      "execution_count": null,
      "metadata": {
        "id": "yzdbQDudNZ6j"
      },
      "outputs": [],
      "source": [
        "%cd /content/\n",
        "repository_url = \"https://github.com/AUTOMATIC1111/stable-diffusion-webui\"  # @param {type: \"string\"}\n",
        "webui_branch = \"master\"  # @param {type: \"string\"}\n",
        "\n",
        "! git clone {repository_url}\n",
        "%cd /content/stable-diffusion-webui\n",
        "! git checkout {webui_branch}"
      ]
    },
    {
      "cell_type": "markdown",
      "metadata": {
        "id": "FAgnQMjoSK1b"
      },
      "source": [
        "## 2 - 設置模型"
      ]
    },
    {
      "cell_type": "code",
      "execution_count": null,
      "metadata": {
        "cellView": "form",
        "id": "Mls4_48XOrTd"
      },
      "outputs": [],
      "source": [
        "# @title 設置SD模型\n",
        "%cd /content\n",
        "# @markdown 雲端資料夾名稱\n",
        "data_dir_name = \"Stable_Diffusion_WebUI_Colab_TW\"  # @param {type:\"string\"}\n",
        "data_dir = f\"/content/drive/MyDrive/{data_dir_name}\"\n",
        "# @markdown 選擇SD模型組合包\n",
        "model_package = \"AnythingV4.5\" # @param [\"AnythingV3\", \"AnythingV4.5\", \"AbyssOrangeMix2_sfw\", \"AbyssOrangeMix3\", \"ChilloutMix\", \"其他(下方填寫)\"] \n",
        "# @markdown 其他SD模型網址\n",
        "sd_url = \"\" #@param {type:\"string\"}\n",
        "vae_url = \"\" #@param {type:\"string\"}\n",
        "# @markdown ---\n",
        "# @markdown - VAE 開啟後圖片色彩比較豐富<br>\n",
        "# @markdown  - WebUI > Settings > Stable Diffusion > SD VAE 設定<br>\n",
        "# @markdown  - 記得要按下 Apply settings\n",
        "\n",
        "sd_urls = []\n",
        "vae_urls = []\n",
        "if model_package == \"AnythingV3\":\n",
        "    sd_urls.append(\"https://huggingface.co/Linaqruf/anything-v3.0/resolve/main/anything-v3-fp32-pruned.safetensors\")\n",
        "    vae_urls.append(\"https://huggingface.co/WuLing/my_vae/resolve/main/Anything-V3.0.vae.pt\")\n",
        "elif model_package == \"AnythingV4.5\":\n",
        "    sd_urls.append(\"https://huggingface.co/andite/anything-v4.0/resolve/main/anything-v4.5-pruned.safetensors\")\n",
        "    vae_urls.append(\"https://huggingface.co/andite/anything-v4.0/resolve/main/anything-v4.0.vae.pt\")\n",
        "elif model_package == \"AbyssOrangeMix2_sfw\":\n",
        "    sd_urls.append(\"https://huggingface.co/WarriorMama777/OrangeMixs/resolve/main/Models/AbyssOrangeMix2/AbyssOrangeMix2_sfw.safetensors\")\n",
        "    vae_urls.append(\"https://huggingface.co/WarriorMama777/OrangeMixs/resolve/main/VAEs/orangemix.vae.pt\")\n",
        "elif model_package == \"AbyssOrangeMix3\":\n",
        "    sd_urls.append(\"https://huggingface.co/WarriorMama777/OrangeMixs/resolve/main/Models/AbyssOrangeMix3/AOM3.safetensors\")\n",
        "    vae_urls.append(\"https://huggingface.co/WarriorMama777/OrangeMixs/resolve/main/VAEs/orangemix.vae.pt\")\n",
        "elif model_package == \"ChilloutMix\":\n",
        "    sd_urls.append(\"https://huggingface.co/WuLing/Chilloutmix_package/resolve/main/chilloutmix_NiPrunedFp32.safetensors\")\n",
        "    vae_urls.append(\"https://huggingface.co/WuLing/Chilloutmix_package/resolve/main/vae-ft-mse-840000-ema-pruned.safetensors\")\n",
        "elif model_package == \"其他(下方填寫)\":\n",
        "    sd_urls.append(sd_url)\n",
        "    vae_urls.append(vae_url)\n",
        "\n",
        "import os\n",
        "\n",
        "drive_path = \"/content/drive\"\n",
        "from google.colab import drive\n",
        "\n",
        "try:\n",
        "    drive.mount(drive_path, force_remount=True)\n",
        "    os.makedirs(data_dir, exist_ok=True)\n",
        "except:\n",
        "    print('Mount Error')\n",
        "    raise\n",
        "\n",
        "if os.path.exists(f\"{data_dir}/script.pre.sh\"):\n",
        "    ! chmod +x {data_dir}/script.pre.sh\n",
        "    ! {data_dir}/script.pre.sh\n",
        "\n",
        "models_path = f\"{data_dir}/models\"\n",
        "output_path = f\"{data_dir}/outputs\"\n",
        "config_path = f\"{data_dir}/config\"\n",
        "scripts_path = f\"{data_dir}/scripts\"\n",
        "extensions_file_path = f\"{data_dir}/extensions.txt\"\n",
        "\n",
        "os.makedirs(models_path, exist_ok=True)\n",
        "os.makedirs(output_path, exist_ok=True)\n",
        "os.makedirs(config_path, exist_ok=True)\n",
        "os.makedirs(scripts_path, exist_ok=True)\n",
        "os.makedirs(f\"{models_path}/Stable-diffusion\", exist_ok=True)\n",
        "os.makedirs(f\"{models_path}/VAE\", exist_ok=True)\n",
        "os.makedirs(f\"{models_path}/embeddings\", exist_ok=True)\n",
        "os.makedirs(f\"{models_path}/hypernetworks\", exist_ok=True)\n",
        "os.makedirs(f\"{models_path}/Lora\", exist_ok=True)\n",
        "\n",
        "for script in os.listdir(scripts_path):\n",
        "    ! rm -Rf stable-diffusion-webui/scripts/{script} && ln -s {scripts_path}/{script} stable-diffusion-webui/scripts/{script}\n",
        "\n",
        "for dir in os.listdir(models_path):\n",
        "    if dir == \"embeddings\":\n",
        "        ! rm -Rf stable-diffusion-webui/embeddings && ln -s {models_path}/embeddings stable-diffusion-webui/embeddings\n",
        "    else:\n",
        "        ! rm -Rf stable-diffusion-webui/models/{dir} && ln -s {models_path}/{dir} stable-diffusion-webui/models/{dir}\n",
        "\n",
        "! rm -Rf stable-diffusion-webui/outputs && ln -s {data_dir}/outputs stable-diffusion-webui/outputs\n",
        "\n",
        "for filename in [\"config.json\", \"ui-config.json\", \"styles.csv\", \"artists.csv\"]:\n",
        "    ! rm -f stable-diffusion-webui/{filename}\n",
        "    filepath = f\"{config_path}/{filename}\"\n",
        "    if not os.path.exists(filepath):\n",
        "        if filename.endswith(\".json\"):\n",
        "            with open(filepath, mode=\"w\") as f:\n",
        "                f.write(\"{}\")\n",
        "        else:\n",
        "            ! touch {config_path}/{filename}\n",
        "    ! ln -s {config_path}/{filename} stable-diffusion-webui/{filename}\n",
        "\n",
        "if sd_urls != []:\n",
        "    %cd {models_path}/Stable-diffusion\n",
        "    for sd_url in sd_urls:\n",
        "        if sd_url != \"\":\n",
        "            ! wget -nc --content-disposition {sd_url}\n",
        "\n",
        "if vae_urls != []:\n",
        "    %cd {models_path}/VAE\n",
        "    for vae_url in vae_urls:\n",
        "        if vae_url != \"\":  \n",
        "            ! wget -nc --content-disposition {vae_url}"
      ]
    },
    {
      "cell_type": "code",
      "source": [
        "# @title 設置 Embedding + Hypernetwork + LoRA\n",
        "# @markdown Embedding\n",
        "ulzzang = False # @param {type:\"boolean\"}\n",
        "embedding_urls = \"\"  # @param {type:\"string\"}\n",
        "# @markdown ---\n",
        "# @markdown Hypernetwork\n",
        "hypernetwork_urls = \"\"  # @param {type:\"string\"}\n",
        "# @markdown ---\n",
        "# @markdown LoRA\n",
        "korean_doll_likeness = False # @param {type:\"boolean\"}\n",
        "taiwan_doll_likeness = False # @param {type:\"boolean\"}\n",
        "japanese_doll_likeness = False # @param {type:\"boolean\"}\n",
        "lora_urls = \"\"  # @param {type:\"string\"}\n",
        "# @markdown ---\n",
        "# @markdown - ulzzang embedding 的觸發詞為 ulzzang<br>\n",
        "# @markdown - doll_likeness系列的權重建議為0.5<br>\n",
        "# @markdown - 網址之間用英文逗號隔開<br>\n",
        "\n",
        "embeddings = []\n",
        "embedding_urls = list(map(str.strip, embedding_urls.split(\",\")))\n",
        "if ulzzang == True:\n",
        "    embeddings.append(\"https://civitai.com/api/download/models/10107\")\n",
        "if embedding_urls != ['']:\n",
        "    embeddings = embeddings + embedding_urls\n",
        "\n",
        "if embeddings != []:\n",
        "    %cd {models_path}/embeddings\n",
        "    for embedding in embeddings:\n",
        "        ! wget -nc --content-disposition {embedding}\n",
        "\n",
        "hypernetworks = []\n",
        "hypernetwork_urls = list(map(str.strip, hypernetwork_urls.split(\",\")))\n",
        "if hypernetwork_urls != ['']:\n",
        "    hypernetworks = hypernetworks + hypernetwork_urls\n",
        "\n",
        "if hypernetworks != []:\n",
        "    %cd {models_path}/hypernetworks\n",
        "    for hypernetwork in hypernetworks:\n",
        "        ! wget -nc --content-disposition {hypernetwork}\n",
        "\n",
        "loras = []\n",
        "lora_urls = list(map(str.strip, lora_urls.split(\",\")))\n",
        "if korean_doll_likeness == True:\n",
        "    loras.append(\"https://civitai.com/api/download/models/8750\")\n",
        "if taiwan_doll_likeness == True:\n",
        "    loras.append(\"https://civitai.com/api/download/models/9070\")\n",
        "if japanese_doll_likeness == True:\n",
        "    loras.append(\"https://civitai.com/api/download/models/12050\")\n",
        "if lora_urls != ['']:\n",
        "    loras = loras + lora_urls\n",
        "\n",
        "if loras != []:\n",
        "    %cd {models_path}/Lora\n",
        "    for lora in loras:\n",
        "        ! wget -nc --content-disposition {lora}"
      ],
      "metadata": {
        "id": "aspo4tgU6-4g",
        "cellView": "form"
      },
      "execution_count": null,
      "outputs": []
    },
    {
      "cell_type": "markdown",
      "metadata": {
        "id": "3JkrcrPBza-M"
      },
      "source": [
        "## 3 - 進階設置"
      ]
    },
    {
      "cell_type": "code",
      "execution_count": null,
      "metadata": {
        "cellView": "form",
        "id": "goUvyTZ4zd4l"
      },
      "outputs": [],
      "source": [
        "# @title 2.1 命令行參數\n",
        "import os\n",
        "\n",
        "os.environ[\"COMMANDLINE_ARGS\"] = \"--no-half-vae --xformers --share --gradio-queue --theme dark\""
      ]
    },
    {
      "cell_type": "code",
      "source": [
        "# @title 2.2 Extensions\n",
        "tag_complete = True # @param {type:\"boolean\"}\n",
        "control_net = False # @param {type:\"boolean\"}\n",
        "extension_urls = \"\"  # @param {type:\"string\"}\n",
        "# @markdown ---\n",
        "# @markdown - tag_complete 提供 Danbooru tag 建議\n",
        "# @markdown - control_net 提供控制姿勢等方法\n",
        "# @markdown - 網址之間用英文逗號隔開<br>\n",
        "\n",
        "extensions = []\n",
        "extension_urls = list(map(str.strip, extension_urls.split(\",\")))\n",
        "if tag_complete == True:\n",
        "    extensions.append(\"https://github.com/DominikDoom/a1111-sd-webui-tagcomplete\")\n",
        "if control_net == True:\n",
        "    extensions.append(\"https://github.com/Mikubill/sd-webui-controlnet\")\n",
        "if extension_urls != ['']:\n",
        "    extensions = extensions + extension_urls\n",
        "\n",
        "import os\n",
        "\n",
        "if extensions != []:\n",
        "    %cd /content/stable-diffusion-webui/extensions\n",
        "    for extension in extensions:\n",
        "        if extension.startswith(\"#\"):\n",
        "            continue\n",
        "        ! git clone {extension}\n",
        "        extension_name, _ = os.path.splitext(extension.split(\"/\")[-1])\n",
        "        if not os.path.isdir(extension_name):\n",
        "            ! git clone {extension}\n",
        "        else:\n",
        "            ! cd {extension_name} && git fetch"
      ],
      "metadata": {
        "cellView": "form",
        "id": "iCsrBrA_9US3"
      },
      "execution_count": null,
      "outputs": []
    },
    {
      "cell_type": "code",
      "source": [
        "# @title 2.3 ControlNet 模型導入\n",
        "control_canny = False # @param {type:\"boolean\"}\n",
        "control_depth = False # @param {type:\"boolean\"}\n",
        "control_hed = False # @param {type:\"boolean\"}\n",
        "control_mlsd = False # @param {type:\"boolean\"}\n",
        "control_normal = False # @param {type:\"boolean\"}\n",
        "control_openpose = True # @param {type:\"boolean\"}\n",
        "control_scribble = False # @param {type:\"boolean\"}\n",
        "control_seg = False # @param {type:\"boolean\"}\n",
        "t2iadapter_keypose = False # @param {type:\"boolean\"}\n",
        "t2iadapter_seg = False # @param {type:\"boolean\"}\n",
        "t2iadapter_sketch = False # @param {type:\"boolean\"}\n",
        "# @markdown ---\n",
        "# @markdown - 參考資料\n",
        "# @markdown  - https://github.com/lllyasviel/ControlNet\n",
        "# @markdown  - https://github.com/Mikubill/sd-webui-controlnet\n",
        "import os\n",
        "\n",
        "control_net_models = []\n",
        "if control_canny == True:\n",
        "    control_net_models.append(\"control_canny\")\n",
        "if control_depth == True:\n",
        "    control_net_models.append(\"control_depth\")\n",
        "if control_hed == True:\n",
        "    control_net_models.append(\"control_hed\")\n",
        "if control_mlsd == True:\n",
        "    control_net_models.append(\"control_mlsd\")\n",
        "if control_normal == True:\n",
        "    control_net_models.append(\"control_normal\")\n",
        "if control_openpose == True:\n",
        "    control_net_models.append(\"control_openpose\")\n",
        "if control_scribble == True:\n",
        "    control_net_models.append(\"control_scribble\")\n",
        "if control_seg == True:\n",
        "    control_net_models.append(\"control_seg\")\n",
        "if t2iadapter_keypose == True:\n",
        "    control_net_models.append(\"t2iadapter_keypose\")\n",
        "if t2iadapter_seg == True:\n",
        "    control_net_models.append(\"t2iadapter_seg\")\n",
        "if t2iadapter_sketch == True:\n",
        "    control_net_models.append(\"t2iadapter_sketch\")\n",
        "\n",
        "%cd /content/stable-diffusion-webui/extensions\n",
        "\n",
        "if os.path.exists('sd-webui-controlnet'):\n",
        "    %cd sd-webui-controlnet/models\n",
        "    for control_net_model in control_net_models:\n",
        "        ! wget -nc --content-disposition https://huggingface.co/webui/ControlNet-modules-safetensors/resolve/main/{control_net_model}-fp16.safetensors"
      ],
      "metadata": {
        "cellView": "form",
        "id": "kKQcBysS2tQo"
      },
      "execution_count": null,
      "outputs": []
    },
    {
      "cell_type": "markdown",
      "metadata": {
        "id": "htQtwGXHTaob"
      },
      "source": [
        "## 4 - 建立環境"
      ]
    },
    {
      "cell_type": "code",
      "execution_count": null,
      "metadata": {
        "id": "Ao2t5h5qG9HD"
      },
      "outputs": [],
      "source": [
        "%cd /content\n",
        "\n",
        "conda_dir = \"/opt/conda\"\n",
        "conda_bin = os.path.join(conda_dir, \"bin\", \"conda\")\n",
        "\n",
        "if not os.path.exists(conda_bin):\n",
        "    ! curl -O https://repo.anaconda.com/miniconda/Miniconda3-latest-Linux-x86_64.sh\n",
        "    ! chmod +x Miniconda3-latest-Linux-x86_64.sh\n",
        "    ! bash ./Miniconda3-latest-Linux-x86_64.sh -b -f -p {conda_dir}\n",
        "    ! rm Miniconda3-latest-Linux-x86_64.sh\n",
        "\n",
        "\n",
        "install_script = f\"\"\"\n",
        "eval \"$({conda_bin} shell.bash hook)\"\n",
        "cd stable-diffusion-webui\n",
        "python3 -m pip install --upgrade tensorrt triton\n",
        "python -c 'from launch import prepare_environment; prepare_environment()'\n",
        "pip install --upgrade fastapi==0.90.1\n",
        "\"\"\"\n",
        "\n",
        "! {install_script}\n",
        "\n",
        "patches_dir = \"/content/patches\"\n",
        "os.makedirs(patches_dir, exist_ok=True)\n",
        "! cd {patches_dir} && curl -LO https://raw.githubusercontent.com/ddPn08/automatic1111-colab/main/patches/stablediffusion-lowram.patch\n",
        "! cd /content/stable-diffusion-webui/repositories/stable-diffusion-stability-ai && git apply {patches_dir}/stablediffusion-lowram.patch\n",
        "\n",
        "os.environ[\n",
        "    \"LD_LIBRARY_PATH\"\n",
        "] = f\"{os.environ['LD_LIBRARY_PATH']}:/usr/local/envs/automatic/lib\"\n",
        "\n",
        "if os.path.exists(f\"{data_dir}/script.post.sh\"):\n",
        "    ! chmod +x {data_dir}/script.post.sh\n",
        "    ! {data_dir}/script.post.sh"
      ]
    },
    {
      "cell_type": "markdown",
      "source": [
        "## 5 - 啟動 WebUI"
      ],
      "metadata": {
        "id": "UJ0vs3qiRrzE"
      }
    },
    {
      "cell_type": "code",
      "execution_count": null,
      "metadata": {
        "id": "Y4ebYsPqTrGb"
      },
      "outputs": [],
      "source": [
        "# @markdown - 點選 public URL 開啟 WebUI<br>\n",
        "# @markdown ![](https://i.imgur.com/y3xGiIX.png)\n",
        "\n",
        "%cd /content/stable-diffusion-webui/\n",
        "! git pull\n",
        "\n",
        "run_script = f\"\"\"\n",
        "eval \"$({conda_bin} shell.bash hook)\"\n",
        "accelerate launch --num_cpu_threads_per_process 1 launch.py\n",
        "\"\"\"\n",
        "! {run_script}"
      ]
    }
  ]
}